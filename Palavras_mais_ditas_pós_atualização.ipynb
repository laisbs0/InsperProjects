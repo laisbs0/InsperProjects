{
  "nbformat": 4,
  "nbformat_minor": 0,
  "metadata": {
    "colab": {
      "provenance": []
    },
    "kernelspec": {
      "name": "python3",
      "display_name": "Python 3"
    },
    "language_info": {
      "name": "python"
    }
  },
  "cells": [
    {
      "cell_type": "code",
      "source": [],
      "metadata": {
        "id": "9cdZERNC6XBY"
      },
      "execution_count": null,
      "outputs": []
    },
    {
      "cell_type": "markdown",
      "source": [
        "# Palavras mais-ditas: Uma ferramenta de identificação e visualização dos termos mais utilizados nos discursos da Câmara dos Deputados\n",
        "A ideia do código surgiu da tese de que palavras-chaves podem indicar os temas de maior relevância em qualquer debate ou discurso. Como primeiro teste da ferramenta, foram analisadas as palavras mais usadas nos discursos oficiais pelos Deputados Federais no início dos contágios da Covid-19, em Março de 2020. A intenção é utilizar o mesmo código para analisar as palavras-chave de um ano depois, no auge do número de mortes na Pandemia, em Março de 2021.\n",
        "O texto e o wordcloud gerados facilitarão a compreensão dos temas em destaque e permitirão a análise das palavras mais utilizadas em qualquer discurso na Câmara dos Deputados."
      ],
      "metadata": {
        "id": "GvpRqvgOvwAO"
      }
    },
    {
      "cell_type": "code",
      "source": [
        "#Primeiro, instalei as bibliotecas que vou precisar"
      ],
      "metadata": {
        "id": "jYaWaxN-vzno"
      },
      "execution_count": null,
      "outputs": []
    },
    {
      "cell_type": "code",
      "execution_count": null,
      "metadata": {
        "colab": {
          "base_uri": "https://localhost:8080/"
        },
        "id": "Iu-8S9PymCDa",
        "outputId": "e1f9d4ec-f9cd-4323-d786-b87a2ba23d7d"
      },
      "outputs": [
        {
          "output_type": "stream",
          "name": "stdout",
          "text": [
            "Looking in indexes: https://pypi.org/simple, https://us-python.pkg.dev/colab-wheels/public/simple/\n",
            "Collecting PyPDF2\n",
            "  Downloading pypdf2-3.0.1-py3-none-any.whl (232 kB)\n",
            "\u001b[2K     \u001b[90m━━━━━━━━━━━━━━━━━━━━━━━━━━━━━━━━━━━━━━━\u001b[0m \u001b[32m232.6/232.6 KB\u001b[0m \u001b[31m4.9 MB/s\u001b[0m eta \u001b[36m0:00:00\u001b[0m\n",
            "\u001b[?25hRequirement already satisfied: typing_extensions>=3.10.0.0 in /usr/local/lib/python3.8/dist-packages (from PyPDF2) (4.5.0)\n",
            "Installing collected packages: PyPDF2\n",
            "Successfully installed PyPDF2-3.0.1\n"
          ]
        }
      ],
      "source": [
        "! pip3 install PyPDF2\n",
        "import PyPDF2\n",
        "import pandas as pd"
      ]
    },
    {
      "cell_type": "code",
      "source": [
        "#Agora preciso de baixar o PDF com os discursos de Março de 2020 da Câmara dos Deputados. Para isso, vou automatizar o processo."
      ],
      "metadata": {
        "id": "JMBwlctTh0iX"
      },
      "execution_count": null,
      "outputs": []
    },
    {
      "cell_type": "code",
      "source": [
        "import requests"
      ],
      "metadata": {
        "id": "EVeuJH3AiWJ3"
      },
      "execution_count": null,
      "outputs": []
    },
    {
      "cell_type": "code",
      "source": [
        "response = requests.get('https://www2.camara.leg.br/atividade-legislativa/discursos-e-notas-taquigraficas/discursos-em-destaque/coronavirus/DiscursossobreCoronavrusMAR2020.pdf')\n",
        "with open('file.pdf', 'wb') as f:\n",
        "    f.write(response.content)\n",
        "    f.close()"
      ],
      "metadata": {
        "id": "-ZMsNPp3ianT"
      },
      "execution_count": null,
      "outputs": []
    },
    {
      "cell_type": "code",
      "source": [
        "discursos_mar_20='file.pdf' #O arquivo estava no diretório como file.pdf! VAqui renomeei como discursos_mar-20."
      ],
      "metadata": {
        "id": "5sqf0EowkP1y"
      },
      "execution_count": null,
      "outputs": []
    },
    {
      "cell_type": "code",
      "source": [
        "pdfFileObj = open(discursos_mar_20,'rb') #Para definir a abertura do arquivo"
      ],
      "metadata": {
        "id": "D4M1hILFmXOX"
      },
      "execution_count": null,
      "outputs": []
    },
    {
      "cell_type": "code",
      "source": [
        "pdfReader = PyPDF2.PdfReader(pdfFileObj) #Acionei a leitura do PDF"
      ],
      "metadata": {
        "id": "szHrQDq6nfbP"
      },
      "execution_count": null,
      "outputs": []
    },
    {
      "cell_type": "code",
      "source": [
        "arquivo = PyPDF2.PdfReader(discursos_mar_20, strict=False)"
      ],
      "metadata": {
        "id": "9LQ9Lr06qZLA"
      },
      "execution_count": null,
      "outputs": []
    },
    {
      "cell_type": "code",
      "source": [
        "num_pags = len(arquivo.pages)"
      ],
      "metadata": {
        "id": "6qvEOS4j5ogH"
      },
      "execution_count": null,
      "outputs": []
    },
    {
      "cell_type": "code",
      "source": [
        "len(arquivo.pages)"
      ],
      "metadata": {
        "colab": {
          "base_uri": "https://localhost:8080/"
        },
        "id": "lYWMDiIU52YL",
        "outputId": "0ab00251-d0c4-44ca-f291-d39b355e5b14"
      },
      "execution_count": null,
      "outputs": [
        {
          "output_type": "execute_result",
          "data": {
            "text/plain": [
              "526"
            ]
          },
          "metadata": {},
          "execution_count": 10
        }
      ]
    },
    {
      "cell_type": "code",
      "source": [
        "#É necessário transformar o PDF em uma lista para extrair palavra por palavra do discurso desejado."
      ],
      "metadata": {
        "id": "6HFMPovpy3Ef"
      },
      "execution_count": null,
      "outputs": []
    },
    {
      "cell_type": "code",
      "source": [
        "pontuação = ['(',')',';',':','[',']',',', '!','?', '.'] #Selecionei as pontuações mais usadas no português para não atrapalhar a contabilização dos termos."
      ],
      "metadata": {
        "id": "idhC_8gwvecf"
      },
      "execution_count": null,
      "outputs": []
    },
    {
      "cell_type": "code",
      "source": [
        "text=[] \n",
        "for x in range(0, num_pags):\n",
        "    page = arquivo.pages[x].extract_text().replace('\\n','')\n",
        "    text.append(page)\n",
        "text #Aqui funciona a extração de texto por páginas e remoção de quebras de texto."
      ],
      "metadata": {
        "id": "E-4nwvSfvi5c"
      },
      "execution_count": null,
      "outputs": []
    },
    {
      "cell_type": "code",
      "source": [
        "#Para dividir o texto em palavras, foi necessário instalar a biblioteca NLTK:"
      ],
      "metadata": {
        "id": "f0jdvFxqB1e4"
      },
      "execution_count": null,
      "outputs": []
    },
    {
      "cell_type": "code",
      "source": [
        "!pip install nltk"
      ],
      "metadata": {
        "id": "g6u9reP81GYA",
        "colab": {
          "base_uri": "https://localhost:8080/"
        },
        "outputId": "3a29b7fe-dfb6-4ea6-c888-889821c4f7fa"
      },
      "execution_count": null,
      "outputs": [
        {
          "output_type": "stream",
          "name": "stdout",
          "text": [
            "Looking in indexes: https://pypi.org/simple, https://us-python.pkg.dev/colab-wheels/public/simple/\n",
            "Requirement already satisfied: nltk in /usr/local/lib/python3.8/dist-packages (3.7)\n",
            "Requirement already satisfied: joblib in /usr/local/lib/python3.8/dist-packages (from nltk) (1.2.0)\n",
            "Requirement already satisfied: click in /usr/local/lib/python3.8/dist-packages (from nltk) (8.1.3)\n",
            "Requirement already satisfied: regex>=2021.8.3 in /usr/local/lib/python3.8/dist-packages (from nltk) (2022.6.2)\n",
            "Requirement already satisfied: tqdm in /usr/local/lib/python3.8/dist-packages (from nltk) (4.64.1)\n"
          ]
        }
      ]
    },
    {
      "cell_type": "code",
      "source": [
        "from nltk.tokenize import word_tokenize\n",
        "from nltk.corpus import stopwords"
      ],
      "metadata": {
        "id": "KKj4UqVu1URq"
      },
      "execution_count": null,
      "outputs": []
    },
    {
      "cell_type": "code",
      "source": [
        "import nltk\n",
        "nltk.download('punkt')\n",
        "nltk.download('stopwords') #As stopwords são os termos que \"ligam\" as palavras chaves às outras, portanto podem ser retirados da contagem"
      ],
      "metadata": {
        "id": "fh0QQkq31eXU",
        "colab": {
          "base_uri": "https://localhost:8080/"
        },
        "outputId": "689659c5-a6b2-4fb9-b8d9-c28cdb64d493"
      },
      "execution_count": null,
      "outputs": [
        {
          "output_type": "stream",
          "name": "stderr",
          "text": [
            "[nltk_data] Downloading package punkt to /root/nltk_data...\n",
            "[nltk_data]   Unzipping tokenizers/punkt.zip.\n",
            "[nltk_data] Downloading package stopwords to /root/nltk_data...\n",
            "[nltk_data]   Unzipping corpora/stopwords.zip.\n"
          ]
        },
        {
          "output_type": "execute_result",
          "data": {
            "text/plain": [
              "True"
            ]
          },
          "metadata": {},
          "execution_count": 18
        }
      ]
    },
    {
      "cell_type": "code",
      "source": [
        "palavras_extras = ['O','SR.','Sr.','DISCURSO','Sessão','SUMÁRIO','sumário','Sumário','CÂMARA','DOS','DEPUTADOS','DCD','Extraordinária','CD', '.','-', 'nº','ORDEM', 'É',\"'\", 'DO','DIA',\"``\",'E','A','Eu','Publ','Deliberativa']"
      ],
      "metadata": {
        "id": "xADXYQhcFjEl"
      },
      "execution_count": null,
      "outputs": []
    },
    {
      "cell_type": "code",
      "source": [
        "#As palavras extras eram palavras usadas nos modelos documentais da Câmaras dos Deputados, e poderiam atrapalhar a filtragem."
      ],
      "metadata": {
        "id": "p6C-HXCmFyQ-"
      },
      "execution_count": null,
      "outputs": []
    },
    {
      "cell_type": "code",
      "source": [
        "pt_stp_words = stopwords.words('portuguese')\n",
        "pt_stp_words = pt_stp_words + pontuação + palavras_extras"
      ],
      "metadata": {
        "id": "6JSvW2M81yvS"
      },
      "execution_count": null,
      "outputs": []
    },
    {
      "cell_type": "code",
      "source": [
        "word_tokens = word_tokenize(str(text))\n",
        "word_tokens #Aqui as palavras foram tokenizadas, extraídas e separadas de uma por uma."
      ],
      "metadata": {
        "id": "ttpXHPRh7r_E"
      },
      "execution_count": null,
      "outputs": []
    },
    {
      "cell_type": "code",
      "source": [
        "filtered_sentence = [x for x in word_tokens if not x in pt_stp_words] #filtrei as sentenças sem as stopwords e pontuações.\n",
        "\n",
        "filtered_sentence = []\n",
        "\n",
        "for word in word_tokens:\n",
        "  if word not in pt_stp_words:\n",
        "    filtered_sentence.append(word)"
      ],
      "metadata": {
        "id": "dZvd1ylO8Yu3"
      },
      "execution_count": null,
      "outputs": []
    },
    {
      "cell_type": "code",
      "source": [
        "len(filtered_sentence) #Esta linha ajuda a verificar a quantidade de palavras filtradas, e garantir que o filtro funcionou."
      ],
      "metadata": {
        "id": "-FGOv0OVA6HO",
        "colab": {
          "base_uri": "https://localhost:8080/"
        },
        "outputId": "21159b4a-1269-449c-f39a-591505a7343b"
      },
      "execution_count": null,
      "outputs": [
        {
          "output_type": "execute_result",
          "data": {
            "text/plain": [
              "109075"
            ]
          },
          "metadata": {},
          "execution_count": 23
        }
      ]
    },
    {
      "cell_type": "code",
      "source": [
        "palavras_unicas = [] #Palavras únicas são as \"palavras chave\", aquelas que restam após a retirada de stopwords e pontuações.\n",
        "contagem = {}\n",
        "for word in filtered_sentence: \n",
        "  if word not in palavras_unicas:\n",
        "    palavras_unicas.append(word)\n",
        "    contagem[word]=1\n",
        "  else:\n",
        "    contagem[word] = contagem[word]+1\n",
        "contagem"
      ],
      "metadata": {
        "id": "ZBZU4VF6KJmY"
      },
      "execution_count": null,
      "outputs": []
    },
    {
      "cell_type": "code",
      "source": [
        "tabela=pd.Series(contagem) #Aqui foi criada uma tabela para facilitar a visualização e a contagem decrescente de frequência das palavras.\n",
        "tabela.sort_values(ascending=False).head(50) #Decidi pelas 50 palavras mais frequentes, mas o número pode mudar!"
      ],
      "metadata": {
        "id": "1Zk5uOVDPhMv"
      },
      "execution_count": null,
      "outputs": []
    },
    {
      "cell_type": "code",
      "source": [
        "resultados=tabela.sort_values(ascending=False).head(50) #Nomeei a tabela como \"resultados\""
      ],
      "metadata": {
        "id": "DKFXabX6KK-m"
      },
      "execution_count": null,
      "outputs": []
    },
    {
      "cell_type": "code",
      "source": [
        "resultados #Para vizualizar a tabela de PandaSeries e verificar se está organizada"
      ],
      "metadata": {
        "id": "xYrXS4BVKS6u"
      },
      "execution_count": null,
      "outputs": []
    },
    {
      "cell_type": "code",
      "source": [
        "s = resultados #Renomeei como \"s\" é para lembrar que resultados se tratava de uma PandaSeries! Precisei de transformar em Dataframe."
      ],
      "metadata": {
        "id": "-v5TZJqByGFp"
      },
      "execution_count": null,
      "outputs": []
    },
    {
      "cell_type": "code",
      "source": [
        "df = s.to_frame()"
      ],
      "metadata": {
        "id": "8T_dNI5sy-hM"
      },
      "execution_count": null,
      "outputs": []
    },
    {
      "cell_type": "code",
      "source": [
        "print(df)"
      ],
      "metadata": {
        "id": "_W3KJLFwzA2U"
      },
      "execution_count": null,
      "outputs": []
    },
    {
      "cell_type": "code",
      "source": [
        "df.columns = ['Vezes que a palavra foi usada']"
      ],
      "metadata": {
        "id": "ZAxRD9BTzbM4"
      },
      "execution_count": null,
      "outputs": []
    },
    {
      "cell_type": "code",
      "source": [
        "from wordcloud import WordCloud #Decidi por uma wordcloud para ilustrar a ferramenta de leitura de discursos.\n",
        "import matplotlib.pyplot as plt\n",
        "from IPython.display import Image"
      ],
      "metadata": {
        "id": "DHDK39kFw1aG"
      },
      "execution_count": null,
      "outputs": []
    },
    {
      "cell_type": "code",
      "source": [
        "data_str = df.to_string() #Já que a wordcloud só lê strings, transformei a data frame (que antes era uma Panda Series) em uma string."
      ],
      "metadata": {
        "id": "kmDcsbau2_i-"
      },
      "execution_count": null,
      "outputs": []
    },
    {
      "cell_type": "code",
      "source": [
        "data_str"
      ],
      "metadata": {
        "id": "cQO3UOBuBID7"
      },
      "execution_count": null,
      "outputs": []
    },
    {
      "cell_type": "code",
      "source": [
        "wordcloud = WordCloud(max_font_size=50, max_words=50).generate(data_str)"
      ],
      "metadata": {
        "id": "9QCowuIO2pS5"
      },
      "execution_count": null,
      "outputs": []
    },
    {
      "cell_type": "code",
      "source": [
        "plt.imshow(wordcloud, interpolation='bilinear')\n",
        "plt.axis(\"off\")\n",
        "plt.show()\n",
        "plt.savefig(\"wordcloud.png\")"
      ],
      "metadata": {
        "id": "wQOPlPlQ2kXa"
      },
      "execution_count": null,
      "outputs": []
    },
    {
      "cell_type": "code",
      "source": [
        "mais_usados=resultados.head(5).reset_index()\n",
        "t1=mais_usados.loc[0, 'index']\n",
        "t2=mais_usados.loc[1, 'index']\n",
        "t3=mais_usados.loc[2, 'index']\n",
        "t4=mais_usados.loc[3, 'index']\n",
        "t5=mais_usados.loc[4, 'index']"
      ],
      "metadata": {
        "id": "6SKHPkuuv57X"
      },
      "execution_count": null,
      "outputs": []
    },
    {
      "cell_type": "code",
      "source": [
        "print(f\"Os termos mais utilizados neste discurso na Câmara dos Deputados foram:\", t1,',',t2,',',t3,',',t4, 'e',t5 )\n",
        "print(Image(filename=\"wordcloud.png\"))"
      ],
      "metadata": {
        "id": "gjwWYuB4Cb5Q"
      },
      "execution_count": null,
      "outputs": []
    }
  ]
}