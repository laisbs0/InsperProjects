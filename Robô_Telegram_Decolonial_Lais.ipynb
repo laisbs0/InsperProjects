{
  "cells": [
    {
      "cell_type": "markdown",
      "metadata": {
        "id": "view-in-github",
        "colab_type": "text"
      },
      "source": [
        "<a href=\"https://colab.research.google.com/github/laisbs0/InsperProjects/blob/main/Rob%C3%B4_Telegram_Decolonial_Lais.ipynb\" target=\"_parent\"><img src=\"https://colab.research.google.com/assets/colab-badge.svg\" alt=\"Open In Colab\"/></a>"
      ]
    },
    {
      "cell_type": "code",
      "execution_count": 34,
      "metadata": {
        "colab": {
          "base_uri": "https://localhost:8080/"
        },
        "id": "cZAHLzgXdM83",
        "outputId": "a9db97d4-cd97-4af8-b9bb-6990bde08273"
      },
      "outputs": [
        {
          "output_type": "stream",
          "name": "stdout",
          "text": [
            "Looking in indexes: https://pypi.org/simple, https://us-python.pkg.dev/colab-wheels/public/simple/\n",
            "Requirement already satisfied: gspread in /usr/local/lib/python3.9/dist-packages (3.4.2)\n",
            "Requirement already satisfied: oauth2client in /usr/local/lib/python3.9/dist-packages (4.1.3)\n",
            "Requirement already satisfied: requests>=2.2.1 in /usr/local/lib/python3.9/dist-packages (from gspread) (2.27.1)\n",
            "Requirement already satisfied: google-auth in /usr/local/lib/python3.9/dist-packages (from gspread) (2.17.1)\n",
            "Requirement already satisfied: pyasn1-modules>=0.0.5 in /usr/local/lib/python3.9/dist-packages (from oauth2client) (0.2.8)\n",
            "Requirement already satisfied: rsa>=3.1.4 in /usr/local/lib/python3.9/dist-packages (from oauth2client) (4.9)\n",
            "Requirement already satisfied: pyasn1>=0.1.7 in /usr/local/lib/python3.9/dist-packages (from oauth2client) (0.4.8)\n",
            "Requirement already satisfied: six>=1.6.1 in /usr/local/lib/python3.9/dist-packages (from oauth2client) (1.16.0)\n",
            "Requirement already satisfied: httplib2>=0.9.1 in /usr/local/lib/python3.9/dist-packages (from oauth2client) (0.21.0)\n",
            "Requirement already satisfied: pyparsing!=3.0.0,!=3.0.1,!=3.0.2,!=3.0.3,<4,>=2.4.2 in /usr/local/lib/python3.9/dist-packages (from httplib2>=0.9.1->oauth2client) (3.0.9)\n",
            "Requirement already satisfied: idna<4,>=2.5 in /usr/local/lib/python3.9/dist-packages (from requests>=2.2.1->gspread) (3.4)\n",
            "Requirement already satisfied: charset-normalizer~=2.0.0 in /usr/local/lib/python3.9/dist-packages (from requests>=2.2.1->gspread) (2.0.12)\n",
            "Requirement already satisfied: certifi>=2017.4.17 in /usr/local/lib/python3.9/dist-packages (from requests>=2.2.1->gspread) (2022.12.7)\n",
            "Requirement already satisfied: urllib3<1.27,>=1.21.1 in /usr/local/lib/python3.9/dist-packages (from requests>=2.2.1->gspread) (1.26.15)\n",
            "Requirement already satisfied: cachetools<6.0,>=2.0.0 in /usr/local/lib/python3.9/dist-packages (from google-auth->gspread) (5.3.0)\n"
          ]
        }
      ],
      "source": [
        "!pip install gspread oauth2client"
      ]
    },
    {
      "cell_type": "code",
      "execution_count": 35,
      "metadata": {
        "id": "ks2bzJCVhEAX"
      },
      "outputs": [],
      "source": [
        "import gspread\n",
        "from oauth2client.service_account import ServiceAccountCredentials"
      ]
    },
    {
      "cell_type": "code",
      "execution_count": 36,
      "metadata": {
        "id": "JTuwgNaQub0Y"
      },
      "outputs": [],
      "source": [
        "nome_json = \"insper-automacao-lais-0029966cc57b.json\"\n",
        "conta = ServiceAccountCredentials.from_json_keyfile_name(nome_json)"
      ]
    },
    {
      "cell_type": "markdown",
      "source": [
        "# Nova seção"
      ],
      "metadata": {
        "id": "Zf_voASQjYjl"
      }
    },
    {
      "cell_type": "code",
      "execution_count": 37,
      "metadata": {
        "id": "W6O-aAb7CIXx"
      },
      "outputs": [],
      "source": [
        "api = gspread.authorize(conta)\n",
        "planilha = api.open_by_key(\"11OkESzP3BYZqkuKGJM4sW4YvywJKNeA6lEr9ReQ3b0U\")\n",
        "sheetpais = planilha.worksheet (\"Página1\")\n",
        "sheet= planilha.worksheet (\"chat\")"
      ]
    },
    {
      "cell_type": "code",
      "execution_count": 38,
      "metadata": {
        "id": "SpPJowwGDySy",
        "colab": {
          "base_uri": "https://localhost:8080/"
        },
        "outputId": "0937e9b8-c98b-4362-e59b-9979b2db74c9"
      },
      "outputs": [
        {
          "output_type": "execute_result",
          "data": {
            "text/plain": [
              "[['localidade', 'Invadido'],\n",
              " ['Andorra', 'Não Foi '],\n",
              " ['Bielorrússia', 'Não Foi'],\n",
              " ['Bolívia', 'Não Foi'],\n",
              " ['Burundi', 'Não Foi'],\n",
              " ['Chade', 'Não Foi'],\n",
              " ['Congo', 'Não Foi '],\n",
              " ['Costa do Marfim', 'Não Foi'],\n",
              " ['Guatemala', 'Não Foi'],\n",
              " ['Ilhas Marshall', 'Não Foi'],\n",
              " ['Liechtenstein', 'Não Foi'],\n",
              " ['Luxemburgo', 'Não Foi '],\n",
              " ['Mali', 'Não Foi'],\n",
              " ['Mônaco', 'Não Foi'],\n",
              " ['Mongólia', 'Não Foi'],\n",
              " ['Paraguai', 'Não Foi'],\n",
              " ['Quirguistão', 'Não Foi'],\n",
              " ['República Centro-Africana', 'Não Foi'],\n",
              " ['São Tomé e Príncipe', 'Não Foi'],\n",
              " ['Suécia', 'Não Foi'],\n",
              " ['Tajiquistão', 'Não Foi'],\n",
              " ['Uzbequistão', 'Não Foi'],\n",
              " ['Vaticano', 'Não Foi']]"
            ]
          },
          "metadata": {},
          "execution_count": 38
        }
      ],
      "source": [
        "sheetpais.get(\"A1:Z1000\")"
      ]
    },
    {
      "cell_type": "code",
      "execution_count": 39,
      "metadata": {
        "id": "WouM3PWLGnk-",
        "colab": {
          "base_uri": "https://localhost:8080/"
        },
        "outputId": "0a9f40c9-08d9-4b96-e6f8-f888f1ae890e"
      },
      "outputs": [
        {
          "name": "stdout",
          "output_type": "stream",
          "text": [
            "··········\n"
          ]
        }
      ],
      "source": [
        "import getpass\n",
        "import requests\n",
        "\n",
        "token = getpass.getpass()\n",
        "#5869035442:AAGZPAj-nyXIr2lR6BfXZ1KzTCkz3BBOi1M"
      ]
    },
    {
      "cell_type": "code",
      "execution_count": 40,
      "metadata": {
        "id": "1JkoXIqCGyZd",
        "colab": {
          "base_uri": "https://localhost:8080/"
        },
        "outputId": "92617e0b-8b5b-4995-8637-c39c8f69c25a"
      },
      "outputs": [
        {
          "output_type": "stream",
          "name": "stdout",
          "text": [
            "{'ok': True, 'result': {'id': 5869035442, 'is_bot': True, 'first_name': 'Robô da Lais', 'username': 'islaisla_bot', 'can_join_groups': True, 'can_read_all_group_messages': False, 'supports_inline_queries': False}}\n"
          ]
        }
      ],
      "source": [
        "resposta = requests.get(f\"https://api.telegram.org/bot{token}/getMe\")\n",
        "print(resposta.json())"
      ]
    },
    {
      "cell_type": "code",
      "execution_count": 41,
      "metadata": {
        "id": "rdoVn17FmI7_",
        "colab": {
          "base_uri": "https://localhost:8080/"
        },
        "outputId": "6e4bae10-9ac3-463a-8469-5562ebe19223"
      },
      "outputs": [
        {
          "output_type": "stream",
          "name": "stdout",
          "text": [
            "Temos 2 novas atualizações:\n",
            "[{'update_id': 699588806, 'message': {'message_id': 239, 'from': {'id': 1691379206, 'is_bot': False, 'first_name': 'Lais', 'last_name': 'Santana', 'username': 'islaislaislais', 'language_code': 'pt-br'}, 'chat': {'id': 1691379206, 'first_name': 'Lais', 'last_name': 'Santana', 'username': 'islaislaislais', 'type': 'private'}, 'date': 1680717408, 'text': '/start', 'entities': [{'offset': 0, 'length': 6, 'type': 'bot_command'}]}}, {'update_id': 699588807, 'message': {'message_id': 241, 'from': {'id': 1691379206, 'is_bot': False, 'first_name': 'Lais', 'last_name': 'Santana', 'username': 'islaislaislais', 'language_code': 'pt-br'}, 'chat': {'id': 1691379206, 'first_name': 'Lais', 'last_name': 'Santana', 'username': 'islaislaislais', 'type': 'private'}, 'date': 1680717451, 'text': 'Vaticano'}}]\n"
          ]
        }
      ],
      "source": [
        "resposta = requests.get(f\"https://api.telegram.org/bot{token}/getUpdates\")\n",
        "dados = resposta.json()[\"result\"]\n",
        "print(f\"Temos {len(dados)} novas atualizações:\")\n",
        "print(dados)"
      ]
    },
    {
      "cell_type": "code",
      "execution_count": 42,
      "metadata": {
        "id": "bQrquqj3ohQk"
      },
      "outputs": [],
      "source": [
        "updates_processados = []"
      ]
    },
    {
      "cell_type": "code",
      "execution_count": 43,
      "metadata": {
        "id": "lqjcq7LImU60",
        "colab": {
          "base_uri": "https://localhost:8080/"
        },
        "outputId": "65f37728-6b22-4dff-ef27-2ad214aa6269"
      },
      "outputs": [
        {
          "output_type": "stream",
          "name": "stdout",
          "text": [
            "[\n",
            "  {\n",
            "    \"update_id\": 699588806,\n",
            "    \"message\": {\n",
            "      \"message_id\": 239,\n",
            "      \"from\": {\n",
            "        \"id\": 1691379206,\n",
            "        \"is_bot\": false,\n",
            "        \"first_name\": \"Lais\",\n",
            "        \"last_name\": \"Santana\",\n",
            "        \"username\": \"islaislaislais\",\n",
            "        \"language_code\": \"pt-br\"\n",
            "      },\n",
            "      \"chat\": {\n",
            "        \"id\": 1691379206,\n",
            "        \"first_name\": \"Lais\",\n",
            "        \"last_name\": \"Santana\",\n",
            "        \"username\": \"islaislaislais\",\n",
            "        \"type\": \"private\"\n",
            "      },\n",
            "      \"date\": 1680717408,\n",
            "      \"text\": \"/start\",\n",
            "      \"entities\": [\n",
            "        {\n",
            "          \"offset\": 0,\n",
            "          \"length\": 6,\n",
            "          \"type\": \"bot_command\"\n",
            "        }\n",
            "      ]\n",
            "    }\n",
            "  },\n",
            "  {\n",
            "    \"update_id\": 699588807,\n",
            "    \"message\": {\n",
            "      \"message_id\": 241,\n",
            "      \"from\": {\n",
            "        \"id\": 1691379206,\n",
            "        \"is_bot\": false,\n",
            "        \"first_name\": \"Lais\",\n",
            "        \"last_name\": \"Santana\",\n",
            "        \"username\": \"islaislaislais\",\n",
            "        \"language_code\": \"pt-br\"\n",
            "      },\n",
            "      \"chat\": {\n",
            "        \"id\": 1691379206,\n",
            "        \"first_name\": \"Lais\",\n",
            "        \"last_name\": \"Santana\",\n",
            "        \"username\": \"islaislaislais\",\n",
            "        \"type\": \"private\"\n",
            "      },\n",
            "      \"date\": 1680717451,\n",
            "      \"text\": \"Vaticano\"\n",
            "    }\n",
            "  }\n",
            "]\n"
          ]
        }
      ],
      "source": [
        "import json\n",
        "print(json.dumps(dados, indent=2))"
      ]
    },
    {
      "cell_type": "markdown",
      "metadata": {
        "id": "PX0aMft87Zmn"
      },
      "source": [
        "aqui \n",
        "\n"
      ]
    },
    {
      "cell_type": "code",
      "execution_count": 44,
      "metadata": {
        "id": "kVEeMrln7cOr"
      },
      "outputs": [],
      "source": [
        "updates_processados = []"
      ]
    },
    {
      "cell_type": "code",
      "execution_count": 45,
      "metadata": {
        "id": "rxUb74OU8IWt"
      },
      "outputs": [],
      "source": [
        "import pandas as pd \n",
        "valor = 1675722349 # número de segundos desde 00/01/1970 00:00:00\n",
        "\n",
        "import datetime\n",
        "\n",
        "convertido = datetime.datetime.fromtimestamp(valor)"
      ]
    },
    {
      "cell_type": "code",
      "execution_count": 46,
      "metadata": {
        "id": "1WN9dZtADejY",
        "colab": {
          "base_uri": "https://localhost:8080/",
          "height": 739
        },
        "outputId": "36fb2b21-4ad4-4349-cf6c-7e0b587e25b2"
      },
      "outputs": [
        {
          "output_type": "execute_result",
          "data": {
            "text/plain": [
              "                   localidade  Invadido\n",
              "0                     Andorra  Não Foi \n",
              "1                Bielorrússia   Não Foi\n",
              "2                     Bolívia   Não Foi\n",
              "3                     Burundi   Não Foi\n",
              "4                       Chade   Não Foi\n",
              "5                       Congo  Não Foi \n",
              "6             Costa do Marfim   Não Foi\n",
              "7                   Guatemala   Não Foi\n",
              "8              Ilhas Marshall   Não Foi\n",
              "9               Liechtenstein   Não Foi\n",
              "10                 Luxemburgo  Não Foi \n",
              "11                       Mali   Não Foi\n",
              "12                     Mônaco   Não Foi\n",
              "13                   Mongólia   Não Foi\n",
              "14                   Paraguai   Não Foi\n",
              "15                Quirguistão   Não Foi\n",
              "16  República Centro-Africana   Não Foi\n",
              "17        São Tomé e Príncipe   Não Foi\n",
              "18                     Suécia   Não Foi\n",
              "19                Tajiquistão   Não Foi\n",
              "20                Uzbequistão   Não Foi\n",
              "21                   Vaticano   Não Foi"
            ],
            "text/html": [
              "\n",
              "  <div id=\"df-14cde1a5-8541-4532-9651-82c10b32b0a4\">\n",
              "    <div class=\"colab-df-container\">\n",
              "      <div>\n",
              "<style scoped>\n",
              "    .dataframe tbody tr th:only-of-type {\n",
              "        vertical-align: middle;\n",
              "    }\n",
              "\n",
              "    .dataframe tbody tr th {\n",
              "        vertical-align: top;\n",
              "    }\n",
              "\n",
              "    .dataframe thead th {\n",
              "        text-align: right;\n",
              "    }\n",
              "</style>\n",
              "<table border=\"1\" class=\"dataframe\">\n",
              "  <thead>\n",
              "    <tr style=\"text-align: right;\">\n",
              "      <th></th>\n",
              "      <th>localidade</th>\n",
              "      <th>Invadido</th>\n",
              "    </tr>\n",
              "  </thead>\n",
              "  <tbody>\n",
              "    <tr>\n",
              "      <th>0</th>\n",
              "      <td>Andorra</td>\n",
              "      <td>Não Foi</td>\n",
              "    </tr>\n",
              "    <tr>\n",
              "      <th>1</th>\n",
              "      <td>Bielorrússia</td>\n",
              "      <td>Não Foi</td>\n",
              "    </tr>\n",
              "    <tr>\n",
              "      <th>2</th>\n",
              "      <td>Bolívia</td>\n",
              "      <td>Não Foi</td>\n",
              "    </tr>\n",
              "    <tr>\n",
              "      <th>3</th>\n",
              "      <td>Burundi</td>\n",
              "      <td>Não Foi</td>\n",
              "    </tr>\n",
              "    <tr>\n",
              "      <th>4</th>\n",
              "      <td>Chade</td>\n",
              "      <td>Não Foi</td>\n",
              "    </tr>\n",
              "    <tr>\n",
              "      <th>5</th>\n",
              "      <td>Congo</td>\n",
              "      <td>Não Foi</td>\n",
              "    </tr>\n",
              "    <tr>\n",
              "      <th>6</th>\n",
              "      <td>Costa do Marfim</td>\n",
              "      <td>Não Foi</td>\n",
              "    </tr>\n",
              "    <tr>\n",
              "      <th>7</th>\n",
              "      <td>Guatemala</td>\n",
              "      <td>Não Foi</td>\n",
              "    </tr>\n",
              "    <tr>\n",
              "      <th>8</th>\n",
              "      <td>Ilhas Marshall</td>\n",
              "      <td>Não Foi</td>\n",
              "    </tr>\n",
              "    <tr>\n",
              "      <th>9</th>\n",
              "      <td>Liechtenstein</td>\n",
              "      <td>Não Foi</td>\n",
              "    </tr>\n",
              "    <tr>\n",
              "      <th>10</th>\n",
              "      <td>Luxemburgo</td>\n",
              "      <td>Não Foi</td>\n",
              "    </tr>\n",
              "    <tr>\n",
              "      <th>11</th>\n",
              "      <td>Mali</td>\n",
              "      <td>Não Foi</td>\n",
              "    </tr>\n",
              "    <tr>\n",
              "      <th>12</th>\n",
              "      <td>Mônaco</td>\n",
              "      <td>Não Foi</td>\n",
              "    </tr>\n",
              "    <tr>\n",
              "      <th>13</th>\n",
              "      <td>Mongólia</td>\n",
              "      <td>Não Foi</td>\n",
              "    </tr>\n",
              "    <tr>\n",
              "      <th>14</th>\n",
              "      <td>Paraguai</td>\n",
              "      <td>Não Foi</td>\n",
              "    </tr>\n",
              "    <tr>\n",
              "      <th>15</th>\n",
              "      <td>Quirguistão</td>\n",
              "      <td>Não Foi</td>\n",
              "    </tr>\n",
              "    <tr>\n",
              "      <th>16</th>\n",
              "      <td>República Centro-Africana</td>\n",
              "      <td>Não Foi</td>\n",
              "    </tr>\n",
              "    <tr>\n",
              "      <th>17</th>\n",
              "      <td>São Tomé e Príncipe</td>\n",
              "      <td>Não Foi</td>\n",
              "    </tr>\n",
              "    <tr>\n",
              "      <th>18</th>\n",
              "      <td>Suécia</td>\n",
              "      <td>Não Foi</td>\n",
              "    </tr>\n",
              "    <tr>\n",
              "      <th>19</th>\n",
              "      <td>Tajiquistão</td>\n",
              "      <td>Não Foi</td>\n",
              "    </tr>\n",
              "    <tr>\n",
              "      <th>20</th>\n",
              "      <td>Uzbequistão</td>\n",
              "      <td>Não Foi</td>\n",
              "    </tr>\n",
              "    <tr>\n",
              "      <th>21</th>\n",
              "      <td>Vaticano</td>\n",
              "      <td>Não Foi</td>\n",
              "    </tr>\n",
              "  </tbody>\n",
              "</table>\n",
              "</div>\n",
              "      <button class=\"colab-df-convert\" onclick=\"convertToInteractive('df-14cde1a5-8541-4532-9651-82c10b32b0a4')\"\n",
              "              title=\"Convert this dataframe to an interactive table.\"\n",
              "              style=\"display:none;\">\n",
              "        \n",
              "  <svg xmlns=\"http://www.w3.org/2000/svg\" height=\"24px\"viewBox=\"0 0 24 24\"\n",
              "       width=\"24px\">\n",
              "    <path d=\"M0 0h24v24H0V0z\" fill=\"none\"/>\n",
              "    <path d=\"M18.56 5.44l.94 2.06.94-2.06 2.06-.94-2.06-.94-.94-2.06-.94 2.06-2.06.94zm-11 1L8.5 8.5l.94-2.06 2.06-.94-2.06-.94L8.5 2.5l-.94 2.06-2.06.94zm10 10l.94 2.06.94-2.06 2.06-.94-2.06-.94-.94-2.06-.94 2.06-2.06.94z\"/><path d=\"M17.41 7.96l-1.37-1.37c-.4-.4-.92-.59-1.43-.59-.52 0-1.04.2-1.43.59L10.3 9.45l-7.72 7.72c-.78.78-.78 2.05 0 2.83L4 21.41c.39.39.9.59 1.41.59.51 0 1.02-.2 1.41-.59l7.78-7.78 2.81-2.81c.8-.78.8-2.07 0-2.86zM5.41 20L4 18.59l7.72-7.72 1.47 1.35L5.41 20z\"/>\n",
              "  </svg>\n",
              "      </button>\n",
              "      \n",
              "  <style>\n",
              "    .colab-df-container {\n",
              "      display:flex;\n",
              "      flex-wrap:wrap;\n",
              "      gap: 12px;\n",
              "    }\n",
              "\n",
              "    .colab-df-convert {\n",
              "      background-color: #E8F0FE;\n",
              "      border: none;\n",
              "      border-radius: 50%;\n",
              "      cursor: pointer;\n",
              "      display: none;\n",
              "      fill: #1967D2;\n",
              "      height: 32px;\n",
              "      padding: 0 0 0 0;\n",
              "      width: 32px;\n",
              "    }\n",
              "\n",
              "    .colab-df-convert:hover {\n",
              "      background-color: #E2EBFA;\n",
              "      box-shadow: 0px 1px 2px rgba(60, 64, 67, 0.3), 0px 1px 3px 1px rgba(60, 64, 67, 0.15);\n",
              "      fill: #174EA6;\n",
              "    }\n",
              "\n",
              "    [theme=dark] .colab-df-convert {\n",
              "      background-color: #3B4455;\n",
              "      fill: #D2E3FC;\n",
              "    }\n",
              "\n",
              "    [theme=dark] .colab-df-convert:hover {\n",
              "      background-color: #434B5C;\n",
              "      box-shadow: 0px 1px 3px 1px rgba(0, 0, 0, 0.15);\n",
              "      filter: drop-shadow(0px 1px 2px rgba(0, 0, 0, 0.3));\n",
              "      fill: #FFFFFF;\n",
              "    }\n",
              "  </style>\n",
              "\n",
              "      <script>\n",
              "        const buttonEl =\n",
              "          document.querySelector('#df-14cde1a5-8541-4532-9651-82c10b32b0a4 button.colab-df-convert');\n",
              "        buttonEl.style.display =\n",
              "          google.colab.kernel.accessAllowed ? 'block' : 'none';\n",
              "\n",
              "        async function convertToInteractive(key) {\n",
              "          const element = document.querySelector('#df-14cde1a5-8541-4532-9651-82c10b32b0a4');\n",
              "          const dataTable =\n",
              "            await google.colab.kernel.invokeFunction('convertToInteractive',\n",
              "                                                     [key], {});\n",
              "          if (!dataTable) return;\n",
              "\n",
              "          const docLinkHtml = 'Like what you see? Visit the ' +\n",
              "            '<a target=\"_blank\" href=https://colab.research.google.com/notebooks/data_table.ipynb>data table notebook</a>'\n",
              "            + ' to learn more about interactive tables.';\n",
              "          element.innerHTML = '';\n",
              "          dataTable['output_type'] = 'display_data';\n",
              "          await google.colab.output.renderOutput(dataTable, element);\n",
              "          const docLink = document.createElement('div');\n",
              "          docLink.innerHTML = docLinkHtml;\n",
              "          element.appendChild(docLink);\n",
              "        }\n",
              "      </script>\n",
              "    </div>\n",
              "  </div>\n",
              "  "
            ]
          },
          "metadata": {},
          "execution_count": 46
        }
      ],
      "source": [
        "paises = planilha.worksheet(\"Página1\")\n",
        "paises = paises.get_all_records()\n",
        "df = pd.DataFrame(paises)\n",
        "df"
      ]
    },
    {
      "cell_type": "code",
      "execution_count": 63,
      "metadata": {
        "id": "3hW1OTj88M8D",
        "colab": {
          "base_uri": "https://localhost:8080/"
        },
        "outputId": "655efb36-a2e4-4f77-c866-cb155aa864b8"
      },
      "outputs": [
        {
          "output_type": "stream",
          "name": "stdout",
          "text": [
            "Temos 1 novas atualizações:\n",
            "[2023-04-05 20:26:32] Nova mensagem de Lais @islaislaislais (1691379206): apdkpaks\n",
            "apdkpaks\n"
          ]
        },
        {
          "output_type": "execute_result",
          "data": {
            "text/plain": [
              "{'spreadsheetId': '11OkESzP3BYZqkuKGJM4sW4YvywJKNeA6lEr9ReQ3b0U',\n",
              " 'updatedRange': 'chat!A1',\n",
              " 'updatedRows': 1,\n",
              " 'updatedColumns': 1,\n",
              " 'updatedCells': 1}"
            ]
          },
          "metadata": {},
          "execution_count": 63
        }
      ],
      "source": [
        "update_id = int(sheet.get(\"A1\")[0][0])\n",
        "# Parâmetros de uma URL - também são chamados de query strings\n",
        "resposta = requests.get(f\"https://api.telegram.org/bot{token}/getUpdates?offset={update_id + 1}\")\n",
        "dados = resposta.json()[\"result\"]  \n",
        "print(f\"Temos {len(dados)} novas atualizações:\")\n",
        "mensagens = []\n",
        "for update in dados:\n",
        "  update_id = update[\"update_id\"]\n",
        "  # Extrai dados para mostrar mensagem recebida\n",
        "  first_name = update[\"message\"][\"from\"][\"first_name\"]\n",
        "  sender_id = update[\"message\"][\"from\"][\"id\"]\n",
        "  if \"text\" not in update[\"message\"]:\n",
        "    continue  # Essa mensagem não é um texto!\n",
        "  message = update[\"message\"][\"text\"]\n",
        "  chat_id = update[\"message\"][\"chat\"][\"id\"]\n",
        "  datahora = str(datetime.datetime.fromtimestamp(update[\"message\"][\"date\"]))\n",
        "  if \"username\" in update[\"message\"][\"from\"]:\n",
        "    username = update[\"message\"][\"from\"][\"username\"]\n",
        "  else:\n",
        "    username = \"[não definido]\"\n",
        "  print(f\"[{datahora}] Nova mensagem de {first_name} @{username} ({chat_id}): {message}\")\n",
        "  mensagens.append([datahora, \"recebida\", username, first_name, chat_id, message])\n",
        "  # Define qual será a resposta e envia\n",
        "  texto_resposta = \" \"\n",
        "  print(message)\n",
        "\n",
        "  if message == \"/start\":\n",
        "    texto_resposta = \"Bem-vindo(a)! Aqui te ajudo a descobrir quais países foram e não foram invadidos pela Inglaterra. Qual você quer saber?\"\n",
        "\n",
        "  elif message != \" \":\n",
        "    encontrou = False\n",
        "    paises=df['localidade']\n",
        "    for pais in paises:\n",
        "      if pais == message: #permitir maiúsculas, minúsculas...\n",
        "        encontrou = True\n",
        "    if encontrou:\n",
        "      texto_resposta = \"Este país nunca foi invadido pela Inglaterra.\"\n",
        "    else: \n",
        "      texto_resposta = \"Este país já foi invadido pela Inglaterra.\"\n",
        "\n",
        "  else:\n",
        "    texto_resposta =\"Obrigada por ter utilizado este canal, até mais!\"\n",
        "\n",
        "  nova_mensagem = {\"chat_id\": chat_id, \"text\": texto_resposta}\n",
        "  requests.post(f\"https://api.telegram.org./bot{token}/sendMessage\", data=nova_mensagem)\n",
        "  mensagens.append([datahora, \"enviada\", username, first_name, chat_id, texto_resposta,])\n",
        "# Atualiza planilha do sheets com último update processado\n",
        "sheet.append_rows(mensagens)\n",
        "sheet.update(\"A1\", update_id)"
      ]
    },
    {
      "cell_type": "code",
      "source": [],
      "metadata": {
        "id": "q4mnepfq6Le_"
      },
      "execution_count": null,
      "outputs": []
    }
  ],
  "metadata": {
    "colab": {
      "provenance": [],
      "include_colab_link": true
    },
    "kernelspec": {
      "display_name": "Python 3",
      "name": "python3"
    },
    "language_info": {
      "name": "python"
    }
  },
  "nbformat": 4,
  "nbformat_minor": 0
}